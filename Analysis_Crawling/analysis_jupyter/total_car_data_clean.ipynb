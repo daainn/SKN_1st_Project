{
 "cells": [
  {
   "cell_type": "code",
   "id": "initial_id",
   "metadata": {
    "collapsed": true,
    "ExecuteTime": {
     "end_time": "2025-01-04T06:27:20.478760Z",
     "start_time": "2025-01-04T06:27:20.468458Z"
    }
   },
   "source": [
    "import pandas as pd\n",
    "import numpy as np"
   ],
   "outputs": [],
   "execution_count": 1
  },
  {
   "metadata": {
    "ExecuteTime": {
     "end_time": "2025-01-04T07:32:14.992385Z",
     "start_time": "2025-01-04T07:32:14.928180Z"
    }
   },
   "cell_type": "code",
   "source": [
    "# 0-31번째 행 삭제, 0번컬럼 삭제\n",
    "total_foreign_car_df = pd.read_excel(\"20250104_data.xlsx\", skiprows=32)\n",
    "total_foreign_car_df.drop(total_foreign_car_df.columns[0], axis=1, inplace=True)\n",
    "total_foreign_car_df.columns = [\"년도\", \"국내생산량\", \"국내생산_수출량\", \"국내생산_A시장판매량\", \"국내생산_SUV·MPV\", \"수입_B시장판매량\", \"수입_시장점유율\"]\n",
    "\n",
    "total_foreign_car_df"
   ],
   "id": "8f75f28aeccbb0d4",
   "outputs": [
    {
     "name": "stderr",
     "output_type": "stream",
     "text": [
      "C:\\Users\\User\\anaconda3\\Lib\\site-packages\\openpyxl\\styles\\stylesheet.py:226: UserWarning: Workbook contains no default style, apply openpyxl's default\n",
      "  warn(\"Workbook contains no default style, apply openpyxl's default\")\n"
     ]
    },
    {
     "data": {
      "text/plain": [
       "     년도      국내생산량   국내생산_수출량 국내생산_A시장판매량 국내생산_SUV·MPV 수입_B시장판매량  수입_시장점유율\n",
       "0  2014  4,124,116  2,919,781   1,213,943      412,258   196,359     13.92\n",
       "1  2015  4,135,108  2,821,832   1,326,776      548,775   243,900     15.53\n",
       "2  2016  3,859,991  2,506,505   1,343,379      542,032   225,279     14.36\n",
       "3  2017  3,735,399  2,415,948   1,296,904      544,394   233,088     15.23\n",
       "4  2018  3,661,025  2,449,651   1,297,937      602,546   260,705     16.73\n",
       "5  2019  3,612,587  2,313,038   1,290,817      641,534   244,780     15.94\n",
       "6  2020  3,211,706  1,820,745   1,362,466      712,768   274,859     16.74\n",
       "7  2021  3,162,850  1,960,674   1,203,317      681,521   276,146     18.67\n",
       "8  2022  3,438,355  2,217,753   1,155,962      704,233   283,435     19.69\n",
       "9  2023  3,908,747  2,672,220   1,216,937      762,218   271,034     18.22"
      ],
      "text/html": [
       "<div>\n",
       "<style scoped>\n",
       "    .dataframe tbody tr th:only-of-type {\n",
       "        vertical-align: middle;\n",
       "    }\n",
       "\n",
       "    .dataframe tbody tr th {\n",
       "        vertical-align: top;\n",
       "    }\n",
       "\n",
       "    .dataframe thead th {\n",
       "        text-align: right;\n",
       "    }\n",
       "</style>\n",
       "<table border=\"1\" class=\"dataframe\">\n",
       "  <thead>\n",
       "    <tr style=\"text-align: right;\">\n",
       "      <th></th>\n",
       "      <th>년도</th>\n",
       "      <th>국내생산량</th>\n",
       "      <th>국내생산_수출량</th>\n",
       "      <th>국내생산_A시장판매량</th>\n",
       "      <th>국내생산_SUV·MPV</th>\n",
       "      <th>수입_B시장판매량</th>\n",
       "      <th>수입_시장점유율</th>\n",
       "    </tr>\n",
       "  </thead>\n",
       "  <tbody>\n",
       "    <tr>\n",
       "      <th>0</th>\n",
       "      <td>2014</td>\n",
       "      <td>4,124,116</td>\n",
       "      <td>2,919,781</td>\n",
       "      <td>1,213,943</td>\n",
       "      <td>412,258</td>\n",
       "      <td>196,359</td>\n",
       "      <td>13.92</td>\n",
       "    </tr>\n",
       "    <tr>\n",
       "      <th>1</th>\n",
       "      <td>2015</td>\n",
       "      <td>4,135,108</td>\n",
       "      <td>2,821,832</td>\n",
       "      <td>1,326,776</td>\n",
       "      <td>548,775</td>\n",
       "      <td>243,900</td>\n",
       "      <td>15.53</td>\n",
       "    </tr>\n",
       "    <tr>\n",
       "      <th>2</th>\n",
       "      <td>2016</td>\n",
       "      <td>3,859,991</td>\n",
       "      <td>2,506,505</td>\n",
       "      <td>1,343,379</td>\n",
       "      <td>542,032</td>\n",
       "      <td>225,279</td>\n",
       "      <td>14.36</td>\n",
       "    </tr>\n",
       "    <tr>\n",
       "      <th>3</th>\n",
       "      <td>2017</td>\n",
       "      <td>3,735,399</td>\n",
       "      <td>2,415,948</td>\n",
       "      <td>1,296,904</td>\n",
       "      <td>544,394</td>\n",
       "      <td>233,088</td>\n",
       "      <td>15.23</td>\n",
       "    </tr>\n",
       "    <tr>\n",
       "      <th>4</th>\n",
       "      <td>2018</td>\n",
       "      <td>3,661,025</td>\n",
       "      <td>2,449,651</td>\n",
       "      <td>1,297,937</td>\n",
       "      <td>602,546</td>\n",
       "      <td>260,705</td>\n",
       "      <td>16.73</td>\n",
       "    </tr>\n",
       "    <tr>\n",
       "      <th>5</th>\n",
       "      <td>2019</td>\n",
       "      <td>3,612,587</td>\n",
       "      <td>2,313,038</td>\n",
       "      <td>1,290,817</td>\n",
       "      <td>641,534</td>\n",
       "      <td>244,780</td>\n",
       "      <td>15.94</td>\n",
       "    </tr>\n",
       "    <tr>\n",
       "      <th>6</th>\n",
       "      <td>2020</td>\n",
       "      <td>3,211,706</td>\n",
       "      <td>1,820,745</td>\n",
       "      <td>1,362,466</td>\n",
       "      <td>712,768</td>\n",
       "      <td>274,859</td>\n",
       "      <td>16.74</td>\n",
       "    </tr>\n",
       "    <tr>\n",
       "      <th>7</th>\n",
       "      <td>2021</td>\n",
       "      <td>3,162,850</td>\n",
       "      <td>1,960,674</td>\n",
       "      <td>1,203,317</td>\n",
       "      <td>681,521</td>\n",
       "      <td>276,146</td>\n",
       "      <td>18.67</td>\n",
       "    </tr>\n",
       "    <tr>\n",
       "      <th>8</th>\n",
       "      <td>2022</td>\n",
       "      <td>3,438,355</td>\n",
       "      <td>2,217,753</td>\n",
       "      <td>1,155,962</td>\n",
       "      <td>704,233</td>\n",
       "      <td>283,435</td>\n",
       "      <td>19.69</td>\n",
       "    </tr>\n",
       "    <tr>\n",
       "      <th>9</th>\n",
       "      <td>2023</td>\n",
       "      <td>3,908,747</td>\n",
       "      <td>2,672,220</td>\n",
       "      <td>1,216,937</td>\n",
       "      <td>762,218</td>\n",
       "      <td>271,034</td>\n",
       "      <td>18.22</td>\n",
       "    </tr>\n",
       "  </tbody>\n",
       "</table>\n",
       "</div>"
      ]
     },
     "execution_count": 24,
     "metadata": {},
     "output_type": "execute_result"
    }
   ],
   "execution_count": 24
  },
  {
   "metadata": {
    "ExecuteTime": {
     "end_time": "2025-01-04T07:39:51.521885Z",
     "start_time": "2025-01-04T07:39:51.490183Z"
    }
   },
   "cell_type": "code",
   "source": [
    "data = {\n",
    "    \"연도\": [2014, 2015, 2016, 2017, 2018, 2019, 2020, 2021, 2022, 2023],\n",
    "    \"등록대수(만대)\": [2012, 2099, 2180, 2253, 2320, 2368, 2437, 2491, 2550, 2595],\n",
    "    \"전년대비 증가대수(천대)\": [717, 871, 813, 725, 674, 475, 689, 545, 592, 446],\n",
    "    \"전년대비 증감비(%)\": [3.7, 4.3, 3.9, 3.3, 3.0, 2.0, 2.9, 2.2, 2.4, 1.7],\n",
    "}\n",
    "\n",
    "total_car_df = pd.DataFrame(data)\n",
    "\n",
    "total_car_df[\"등록대수(대)\"] = total_car_df[\"등록대수(만대)\"] * 10000\n",
    "total_car_df[\"전년대비 증가대수(대)\"] = total_car_df[\"전년대비 증가대수(천대)\"] * 1000\n",
    "total_car_df.drop(total_car_df.columns[[1,2]], axis=1, inplace=True)\n",
    "total_car_df.head()"
   ],
   "id": "30b3e9a32c73e504",
   "outputs": [
    {
     "data": {
      "text/plain": [
       "     연도  전년대비 증감비(%)   등록대수(대)  전년대비 증가대수(대)\n",
       "0  2014          3.7  20120000        717000\n",
       "1  2015          4.3  20990000        871000\n",
       "2  2016          3.9  21800000        813000\n",
       "3  2017          3.3  22530000        725000\n",
       "4  2018          3.0  23200000        674000"
      ],
      "text/html": [
       "<div>\n",
       "<style scoped>\n",
       "    .dataframe tbody tr th:only-of-type {\n",
       "        vertical-align: middle;\n",
       "    }\n",
       "\n",
       "    .dataframe tbody tr th {\n",
       "        vertical-align: top;\n",
       "    }\n",
       "\n",
       "    .dataframe thead th {\n",
       "        text-align: right;\n",
       "    }\n",
       "</style>\n",
       "<table border=\"1\" class=\"dataframe\">\n",
       "  <thead>\n",
       "    <tr style=\"text-align: right;\">\n",
       "      <th></th>\n",
       "      <th>연도</th>\n",
       "      <th>전년대비 증감비(%)</th>\n",
       "      <th>등록대수(대)</th>\n",
       "      <th>전년대비 증가대수(대)</th>\n",
       "    </tr>\n",
       "  </thead>\n",
       "  <tbody>\n",
       "    <tr>\n",
       "      <th>0</th>\n",
       "      <td>2014</td>\n",
       "      <td>3.7</td>\n",
       "      <td>20120000</td>\n",
       "      <td>717000</td>\n",
       "    </tr>\n",
       "    <tr>\n",
       "      <th>1</th>\n",
       "      <td>2015</td>\n",
       "      <td>4.3</td>\n",
       "      <td>20990000</td>\n",
       "      <td>871000</td>\n",
       "    </tr>\n",
       "    <tr>\n",
       "      <th>2</th>\n",
       "      <td>2016</td>\n",
       "      <td>3.9</td>\n",
       "      <td>21800000</td>\n",
       "      <td>813000</td>\n",
       "    </tr>\n",
       "    <tr>\n",
       "      <th>3</th>\n",
       "      <td>2017</td>\n",
       "      <td>3.3</td>\n",
       "      <td>22530000</td>\n",
       "      <td>725000</td>\n",
       "    </tr>\n",
       "    <tr>\n",
       "      <th>4</th>\n",
       "      <td>2018</td>\n",
       "      <td>3.0</td>\n",
       "      <td>23200000</td>\n",
       "      <td>674000</td>\n",
       "    </tr>\n",
       "  </tbody>\n",
       "</table>\n",
       "</div>"
      ]
     },
     "execution_count": 30,
     "metadata": {},
     "output_type": "execute_result"
    }
   ],
   "execution_count": 30
  },
  {
   "metadata": {
    "ExecuteTime": {
     "end_time": "2025-01-04T07:42:46.382516Z",
     "start_time": "2025-01-04T07:42:46.364658Z"
    }
   },
   "cell_type": "code",
   "source": [
    "# total_foreign_car_df.to_csv('2014-2024total외산차data.csv')\n",
    "# total_car_df.to_csv('2014-2024전국자동차data.csv')"
   ],
   "id": "80c27d02cbfee6a9",
   "outputs": [],
   "execution_count": 32
  },
  {
   "metadata": {},
   "cell_type": "code",
   "outputs": [],
   "execution_count": null,
   "source": "",
   "id": "212a6ff1bcaec21e"
  }
 ],
 "metadata": {
  "kernelspec": {
   "display_name": "Python 3",
   "language": "python",
   "name": "python3"
  },
  "language_info": {
   "codemirror_mode": {
    "name": "ipython",
    "version": 2
   },
   "file_extension": ".py",
   "mimetype": "text/x-python",
   "name": "python",
   "nbconvert_exporter": "python",
   "pygments_lexer": "ipython2",
   "version": "2.7.6"
  }
 },
 "nbformat": 4,
 "nbformat_minor": 5
}
